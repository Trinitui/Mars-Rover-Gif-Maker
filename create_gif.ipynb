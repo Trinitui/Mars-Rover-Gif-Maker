{
 "cells": [
  {
   "cell_type": "markdown",
   "metadata": {},
   "source": [
    "## First Block imports packages and defines functions to use.\n",
    "Put in your API key where it says \"API_KEY\" or feel free to use \"DEMO_KEY\", which NASA provides free. It has a pretty strict limit though."
   ]
  },
  {
   "cell_type": "code",
   "execution_count": 1,
   "metadata": {},
   "outputs": [],
   "source": [
    "import requests as requests\n",
    "import urllib as urllib\n",
    "import glob\n",
    "from PIL import Image\n",
    "\n",
    "def flatten(S):\n",
    "    if S == []:\n",
    "        return S\n",
    "    if isinstance(S[0], list):\n",
    "        return flatten(S[0]) + flatten(S[1:])\n",
    "    return S[:1] + flatten(S[1:])\n",
    "\n",
    "API_KEY = 'EydHJ0oWVJKf0w7VnTRi5mWhWDDv5eYoHwVBuhqA'\n",
    "#API_KEY = 'DEMO_KEY'\n",
    "photo_counter = 0\n",
    "def get_images_from_mars_rover_apis(sol_num, API_KEY, camera,verbose,rover):\n",
    "\n",
    "    req = requests.get(f'https://api.nasa.gov/mars-photos/api/v1/rovers/{rover}/photos?sol={sol_num}&camera={camera}&api_key={API_KEY}')\n",
    "    a = req.json()\n",
    "\n",
    "    img_list = []\n",
    "\n",
    "    if verbose == 1: print(f'Expecting {len(a[\"photos\"])} photos for sol #{sol_num}')\n",
    "    \n",
    "    for el in a['photos']:\n",
    "        img_list.append(el['img_src'])\n",
    "    \n",
    "    \n",
    "    return img_list\n"
   ]
  },
  {
   "cell_type": "markdown",
   "metadata": {},
   "source": [
    "## Run this next block to generate your gif accoridng to the parameters laid out below.\n",
    "Note: `camera` and `rover` need to be specific to what the API is expecting"
   ]
  },
  {
   "cell_type": "code",
   "execution_count": 2,
   "metadata": {},
   "outputs": [
    {
     "name": "stdout",
     "output_type": "stream",
     "text": [
      "Starting...\n",
      "Done with grabbing pics...\n",
      "size of Mars Pics list:  414\n",
      "starting image dump to disk (this may take a while...)\n",
      "http://mars.jpl.nasa.gov/msl-raw-images/proj/msl/redops/ods/surface/sol/00223/opgs/edr/fcam/FRB_417279248EDR_F0060000FHAZ00323M_.JPG\n",
      "http://mars.jpl.nasa.gov/msl-raw-images/proj/msl/redops/ods/surface/sol/00223/opgs/edr/fcam/FLB_417279248EDR_F0060000FHAZ00323M_.JPG\n",
      "http://mars.jpl.nasa.gov/msl-raw-images/proj/msl/redops/ods/surface/sol/00224/opgs/edr/fcam/FRB_417368023EDR_F0060000FHAZ00323M_.JPG\n",
      "http://mars.jpl.nasa.gov/msl-raw-images/proj/msl/redops/ods/surface/sol/00224/opgs/edr/fcam/FLB_417368023EDR_F0060000FHAZ00323M_.JPG\n",
      "http://mars.jpl.nasa.gov/msl-raw-images/proj/msl/redops/ods/surface/sol/00225/opgs/edr/fcam/FRB_417456798EDR_F0060000FHAZ00323M_.JPG\n",
      "http://mars.jpl.nasa.gov/msl-raw-images/proj/msl/redops/ods/surface/sol/00225/opgs/edr/fcam/FLB_417456798EDR_F0060000FHAZ00323M_.JPG\n",
      "http://mars.jpl.nasa.gov/msl-raw-images/proj/msl/redops/ods/surface/sol/00227/opgs/edr/fcam/FRB_417634347EDR_F0060000FHAZ00323M_.JPG\n",
      "http://mars.jpl.nasa.gov/msl-raw-images/proj/msl/redops/ods/surface/sol/00227/opgs/edr/fcam/FLB_417634347EDR_F0060000FHAZ00323M_.JPG\n",
      "http://mars.jpl.nasa.gov/msl-raw-images/proj/msl/redops/ods/surface/sol/00228/opgs/edr/fcam/FRB_417723120EDR_F0060000FHAZ00323M_.JPG\n",
      "http://mars.jpl.nasa.gov/msl-raw-images/proj/msl/redops/ods/surface/sol/00228/opgs/edr/fcam/FLB_417723120EDR_F0060000FHAZ00323M_.JPG\n"
     ]
    }
   ],
   "source": [
    "#Change these parameters!\n",
    "camera = 'fhaz'         # Has to be one of: fhaz, rhaz, mast, chemcam, mahli, mardi, navcam, pancam, minites\n",
    "                        # Best ones to use: fhaz, navcam, mast. \n",
    "sol_start = 220         # Any number\n",
    "sol_end = 330           # Any number greater than sol_start\n",
    "rover = 'curiosity'     # Has to be one of: curiosity, spirit,opportunity\n",
    "verbose_output = 0      # 0 for off, or 1 for on\n",
    "\n",
    "# More details here: https://api.nasa.gov/\n",
    "\n",
    "\n",
    "print(\"Starting...\")\n",
    "\n",
    "\n",
    "mars_pics = []\n",
    "\n",
    "for i in range(sol_start,sol_end):\n",
    "    mars_pics.append(get_images_from_mars_rover_apis(i,API_KEY,camera,verbose_output,rover))\n",
    "mars_pics = flatten(mars_pics)\n",
    "print(\"Done with grabbing pics...\")\n",
    "\n",
    "print(\"size of Mars Pics list: \",len(mars_pics))\n",
    "\n",
    "print(\"starting image dump to disk (this may take a while...)\")\n",
    "counter = 0\n",
    "for el in mars_pics:\n",
    "    counter += 1\n",
    "    urllib.request.urlretrieve(el, f'{counter}.png')\n",
    "print(\"Done with saving...\")\n",
    "\n",
    "\n",
    "fp_in = r\".\\*.png\"\n",
    "fp_out = rf\".\\{rover}_gif_{camera}.gif\"\n",
    "# https://pillow.readthedocs.io/en/stable/handbook/image-file-formats.html#gif\n",
    "\n",
    "\n",
    "print(\"starting gif creation (this may also take a while...)\")\n",
    "img, *imgs = [Image.open(f) for f in sorted(glob.glob(fp_in))]\n",
    "img.save(fp=fp_out, format='GIF', append_images=imgs,\n",
    "        save_all=True, duration=200, loop=0)\n",
    "\n",
    "print('Done!')\n"
   ]
  },
  {
   "cell_type": "code",
   "execution_count": null,
   "metadata": {},
   "outputs": [],
   "source": [
    "\n"
   ]
  }
 ],
 "metadata": {
  "interpreter": {
   "hash": "aee8b7b246df8f9039afb4144a1f6fd8d2ca17a180786b69acc140d282b71a49"
  },
  "kernelspec": {
   "display_name": "Python 3.9.6 64-bit",
   "name": "python3"
  },
  "language_info": {
   "codemirror_mode": {
    "name": "ipython",
    "version": 3
   },
   "file_extension": ".py",
   "mimetype": "text/x-python",
   "name": "python",
   "nbconvert_exporter": "python",
   "pygments_lexer": "ipython3",
   "version": "3.9.6"
  },
  "orig_nbformat": 4
 },
 "nbformat": 4,
 "nbformat_minor": 2
}
