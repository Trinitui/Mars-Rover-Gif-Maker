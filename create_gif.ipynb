{
 "cells": [
  {
   "cell_type": "code",
   "execution_count": null,
   "metadata": {},
   "outputs": [],
   "source": [
    "import requests as requests\n",
    "import urllib as urllib\n",
    "import glob\n",
    "from PIL import Image\n",
    "req = requests.get('https://api.nasa.gov/mars-photos/api/v1/rovers/curiosity/photos?sol=1000&camera=mast&api_key=DEMO_KEY')\n",
    "a = req.json()"
   ]
  },
  {
   "cell_type": "code",
   "execution_count": null,
   "metadata": {},
   "outputs": [],
   "source": [
    "API_KEY = 'EydHJ0oWVJKf0w7VnTRi5mWhWDDv5eYoHwVBuhqA'\n",
    "photo_counter = 0\n",
    "def get_images_from_mars_rover_apis(sol_num, API_KEY, camera,verbose,rover):\n",
    "\n",
    "    req = requests.get(f'https://api.nasa.gov/mars-photos/api/v1/rovers/{rover}/photos?sol={sol_num}&camera={camera}&api_key={API_KEY}')\n",
    "    a = req.json()\n",
    "\n",
    "    img_list = []\n",
    "\n",
    "    if verbose == 1: print(f'Expecting {len(a[\"photos\"])} photos for sol #{sol_num}')\n",
    "    \n",
    "    for el in a['photos']:\n",
    "        img_list.append(el['img_src'])\n",
    "    \n",
    "    \n",
    "    return img_list\n",
    "\n",
    "\n",
    "def flatten(S):\n",
    "    if S == []:\n",
    "        return S\n",
    "    if isinstance(S[0], list):\n",
    "        return flatten(S[0]) + flatten(S[1:])\n",
    "    return S[:1] + flatten(S[1:])"
   ]
  },
  {
   "cell_type": "code",
   "execution_count": null,
   "metadata": {},
   "outputs": [],
   "source": [
    "mars_pics = []\n",
    "#Change thse parameters\n",
    "camera = 'fhaz'\n",
    "sol_start = 550 \n",
    "sol_end = 600\n",
    "rover = 'curiosity'\n",
    "verbose_output = 1 # 0 for off, or 1 for on\n",
    "\n",
    "\n",
    "for i in range(sol_start,sol_end):\n",
    "    mars_pics.append(get_images_from_mars_rover_apis(i,API_KEY,camera,verbose_output,rover))\n",
    "print(\"Done with grabbing pics...\")\n",
    "print(\"flattening array\")\n",
    "\n",
    "mars_pics = flatten(mars_pics)\n",
    "\n",
    "print(\"size of Mars Pics list: \",len(mars_pics))\n",
    "input(\"Do you want to continue? Interrupt the Kernel if you don't\")\n",
    "\n",
    "print(\"starting image dump to disk (this may take a while...)\")\n",
    "counter = 0\n",
    "for el in mars_pics:\n",
    "    counter += 1\n",
    "    urllib.request.urlretrieve(el, f'{counter}.png')\n",
    "print(\"Done with saving...\")\n",
    "\n",
    "\n",
    "fp_in = r\"C:\\Users\\andre_001\\Desktop\\Coding\\Image\\*.png\"\n",
    "fp_out = rf\"C:\\Users\\andre_001\\Desktop\\Coding\\Image\\{rover}_gif_{camera}.gif\"\n",
    "# https://pillow.readthedocs.io/en/stable/handbook/image-file-formats.html#gif\n",
    "\n",
    "\n",
    "print(\"starting gif creation (this may also take a while...)\")\n",
    "img, *imgs = [Image.open(f) for f in sorted(glob.glob(fp_in))]\n",
    "img.save(fp=fp_out, format='GIF', append_images=imgs,\n",
    "        save_all=True, duration=200, loop=0)\n",
    "\n",
    "print('Done!')\n"
   ]
  },
  {
   "cell_type": "code",
   "execution_count": null,
   "metadata": {},
   "outputs": [],
   "source": [
    "\n"
   ]
  }
 ],
 "metadata": {
  "interpreter": {
   "hash": "fe3f49f6223b380b1ab61690f1c44c9aab96eb9cb65b03e9793ce3b1876ac3d3"
  },
  "kernelspec": {
   "display_name": "Python 3.9.7 64-bit (windows store)",
   "name": "python3"
  },
  "language_info": {
   "codemirror_mode": {
    "name": "ipython",
    "version": 3
   },
   "file_extension": ".py",
   "mimetype": "text/x-python",
   "name": "python",
   "nbconvert_exporter": "python",
   "pygments_lexer": "ipython3",
   "version": "3.9.7"
  },
  "orig_nbformat": 4
 },
 "nbformat": 4,
 "nbformat_minor": 2
}
